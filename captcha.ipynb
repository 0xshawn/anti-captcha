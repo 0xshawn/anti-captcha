{
 "cells": [
  {
   "cell_type": "code",
   "execution_count": 37,
   "metadata": {},
   "outputs": [],
   "source": [
    "import random\n",
    "import string\n",
    "\n",
    "import cv2\n",
    "import matplotlib.pyplot as plt\n",
    "import numpy as np\n",
    "\n",
    "from captcha.image import ImageCaptcha\n",
    "from bson import ObjectId\n",
    "\n",
    "% matplotlib inline\n",
    "% config InlineBackend.figure_format = 'retina'\n",
    "\n",
    "characters = string.digits + string.ascii_uppercase\n",
    "\n",
    "def batch_generate_captcha_mat(count, cnt=1, w=30, h=30):\n",
    "    capt = ImageCaptcha(width=cnt * 34 + 26, height=60)\n",
    "    mat_x = np.ndarray((count, w, h), dtype=np.uint8)\n",
    "    mat_y = np.zeros((count, corpus_len), dtype=np.uint8)\n",
    "    for i in range(0, count):\n",
    "        cid = random.randint(0, corpus_len - 1)\n",
    "        c = corpus[cid]\n",
    "        capt_img = np.array(capt.generate_image(c))\n",
    "        gray_img = cv2.cvtColor(capt_img, cv2.COLOR_RGB2GRAY)\n",
    "        scle_img = cv2.resize(gray_img, (w, h))\n",
    "        mat_x[i] = scle_img\n",
    "        mat_y[i][cid] = 1.0\n",
    "    return mat_x, mat_y\n",
    "\n",
    "\n",
    "def show_img(img, zoom=4, dpi=80):\n",
    "    w = img.shape[0]\n",
    "    h = img.shape[1]\n",
    "    plt.figure(figsize=(w*zoom/dpi, h*zoom/dpi), dpi=dpi)\n",
    "    plt.axis('off')\n",
    "    plt.imshow(img, cmap=plt.get_cmap('gray'))\n",
    "    plt.show()\n",
    "    return\n",
    "\n",
    "def batch_generate_captcha_to_file(corpus, batch=1, capt_len=1, w=30, h=30):\n",
    "    capt = ImageCaptcha(width=capt_len * 30, height=60)\n",
    "    for i in range(0, batch):\n",
    "        chars = ''\n",
    "        for j in range(0, capt_len):\n",
    "            chars += random.choice(corpus)\n",
    "        # image = capt.generate_image(chars)\n",
    "        filename = 'data/{}_{}.png'.format(str(ObjectId()), chars)\n",
    "        capt.write(chars, filename)\n",
    "\n",
    "\n",
    "batch_generate_captcha_to_file(characters, batch=1, capt_len=4)"
   ]
  },
  {
   "cell_type": "code",
   "execution_count": null,
   "metadata": {},
   "outputs": [],
   "source": []
  }
 ],
 "metadata": {
  "kernelspec": {
   "display_name": "Python 3",
   "language": "python",
   "name": "python3"
  },
  "language_info": {
   "codemirror_mode": {
    "name": "ipython",
    "version": 3
   },
   "file_extension": ".py",
   "mimetype": "text/x-python",
   "name": "python",
   "nbconvert_exporter": "python",
   "pygments_lexer": "ipython3",
   "version": "3.6.5"
  }
 },
 "nbformat": 4,
 "nbformat_minor": 2
}
