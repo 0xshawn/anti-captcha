{
 "cells": [
  {
   "cell_type": "code",
   "execution_count": 111,
   "metadata": {},
   "outputs": [
    {
     "name": "stdout",
     "output_type": "stream",
     "text": [
      "X.shape (10, 60, 30)\n",
      "y.shape (10, 36)\n"
     ]
    },
    {
     "data": {
      "image/png": "[encoded data removed]",
      "text/plain": [
       "<matplotlib.figure.Figure at 0x119270320>"
      ]
     },
     "metadata": {
      "image/png": {
       "height": 129,
       "width": 85
      }
     },
     "output_type": "display_data"
    }
   ],
   "source": [
    "import random\n",
    "import string\n",
    "\n",
    "import cv2\n",
    "import matplotlib.pyplot as plt\n",
    "import numpy as np\n",
    "from captcha.image import ImageCaptcha\n",
    "\n",
    "% matplotlib inline\n",
    "% config InlineBackend.figure_format = 'retina'\n",
    "\n",
    "characters = string.digits + string.ascii_uppercase\n",
    "\n",
    "def batch_generate_captcha_mat(count, cnt=1, w=30, h=30):\n",
    "    capt = ImageCaptcha(width=cnt * 34 + 26, height=60)\n",
    "    mat_x = np.ndarray((count, w, h), dtype=np.uint8)\n",
    "    mat_y = np.zeros((count, corpus_len), dtype=np.uint8)\n",
    "    for i in range(0, count):\n",
    "        cid = random.randint(0, corpus_len - 1)\n",
    "        c = corpus[cid]\n",
    "        capt_img = np.array(capt.generate_image(c))\n",
    "        gray_img = cv2.cvtColor(capt_img, cv2.COLOR_RGB2GRAY)\n",
    "        scle_img = cv2.resize(gray_img, (w, h))\n",
    "        mat_x[i] = scle_img\n",
    "        mat_y[i][cid] = 1.0\n",
    "    return mat_x, mat_y\n",
    "\n",
    "def captcha_generator(chars, batch=32, w=30, h=60):\n",
    "    X = np.ndarray((batch, h, w), dtype=np.uint8)\n",
    "    y = np.zeros((batch, len(chars)), dtype=np.uint8)\n",
    "\n",
    "    print('X.shape', X.shape)\n",
    "    print('y.shape', y.shape)\n",
    "    generator = ImageCaptcha(width=width, height=height)\n",
    "    for i in range(batch):\n",
    "        char = random.choice(chars)\n",
    "        idx = chars.find(char)\n",
    "        capt_img = np.array(generator.generate_image(char))\n",
    "        gray_img = cv2.cvtColor(capt_img, cv2.COLOR_RGB2GRAY)\n",
    "        scle_img = cv2.resize(gray_img, (w, h))\n",
    "        X[i] = scle_img\n",
    "        y[i][idx] = 1.0\n",
    "\n",
    "    return X, y\n",
    "\n",
    "def show_img(img, zoom=4, dpi=80):\n",
    "    w = img.shape[0]\n",
    "    h = img.shape[1]\n",
    "    plt.figure(figsize=(w*zoom/dpi, h*zoom/dpi), dpi=dpi)\n",
    "    plt.axis('off')\n",
    "    plt.imshow(img, cmap=plt.get_cmap('gray'))\n",
    "    plt.show()\n",
    "    return\n",
    "\n",
    "train_X, train_y = captcha_generator(characters, 10, 30, 60)\n",
    "show_img(train_X[0])\n",
    "\n",
    "\n"
   ]
  },
  {
   "cell_type": "code",
   "execution_count": null,
   "metadata": {},
   "outputs": [],
   "source": []
  }
 ],
 "metadata": {
  "kernelspec": {
   "display_name": "Python 3",
   "language": "python",
   "name": "python3"
  },
  "language_info": {
   "codemirror_mode": {
    "name": "ipython",
    "version": 3
   },
   "file_extension": ".py",
   "mimetype": "text/x-python",
   "name": "python",
   "nbconvert_exporter": "python",
   "pygments_lexer": "ipython3",
   "version": "3.6.4"
  }
 },
 "nbformat": 4,
 "nbformat_minor": 2
}
